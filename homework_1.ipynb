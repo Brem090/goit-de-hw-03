{
 "cells": [
  {
   "cell_type": "markdown",
   "metadata": {},
   "source": [
    "**1. Імпорт бібілотек**"
   ]
  },
  {
   "cell_type": "code",
   "execution_count": 17,
   "metadata": {},
   "outputs": [],
   "source": [
    "from pyspark.sql import SparkSession\n",
    "from pyspark.sql.functions import col, sum, lit, round"
   ]
  },
  {
   "cell_type": "markdown",
   "metadata": {},
   "source": [
    "**2. Завантаження та читання кожного CSV-файлу як окремого DataFrame**"
   ]
  },
  {
   "cell_type": "code",
   "execution_count": 18,
   "metadata": {},
   "outputs": [
    {
     "name": "stdout",
     "output_type": "stream",
     "text": [
      "Users DataFrame:\n",
      "+-------+------+---+-----------------+\n",
      "|user_id|  name|age|            email|\n",
      "+-------+------+---+-----------------+\n",
      "|      1|User_1| 45|user1@example.com|\n",
      "|      2|User_2| 48|user2@example.com|\n",
      "|      3|User_3| 36|user3@example.com|\n",
      "|      4|User_4| 46|user4@example.com|\n",
      "|      5|User_5| 29|user5@example.com|\n",
      "+-------+------+---+-----------------+\n",
      "only showing top 5 rows\n",
      "\n",
      "Purchases DataFrame:\n",
      "+-----------+-------+----------+----------+--------+\n",
      "|purchase_id|user_id|product_id|      date|quantity|\n",
      "+-----------+-------+----------+----------+--------+\n",
      "|          1|     52|         9|2022-01-01|       1|\n",
      "|          2|     93|        37|2022-01-02|       8|\n",
      "|          3|     15|        33|2022-01-03|       1|\n",
      "|          4|     72|        42|2022-01-04|       9|\n",
      "|          5|     61|        44|2022-01-05|       6|\n",
      "+-----------+-------+----------+----------+--------+\n",
      "only showing top 5 rows\n",
      "\n",
      "Products DataFrame:\n",
      "+----------+------------+-----------+-----+\n",
      "|product_id|product_name|   category|price|\n",
      "+----------+------------+-----------+-----+\n",
      "|         1|   Product_1|     Beauty|  8.3|\n",
      "|         2|   Product_2|       Home|  8.3|\n",
      "|         3|   Product_3|Electronics|  9.2|\n",
      "|         4|   Product_4|Electronics|  2.6|\n",
      "|         5|   Product_5|Electronics|  9.4|\n",
      "+----------+------------+-----------+-----+\n",
      "only showing top 5 rows\n",
      "\n"
     ]
    }
   ],
   "source": [
    "# Створення SparkSession\n",
    "spark = SparkSession.builder \\\n",
    "    .appName(\"Homework 1\") \\\n",
    "    .config(\"spark.driver.bindAddress\", \"127.0.0.1\") \\\n",
    "    .getOrCreate()\n",
    "\n",
    "# Шляхи до CSV-файлів\n",
    "users_file = '/mnt/f/Educations/goit-de-hw-03/users.csv'\n",
    "purchases_file = '/mnt/f/Educations/goit-de-hw-03/purchases.csv'\n",
    "products_file = '/mnt/f/Educations/goit-de-hw-03/products.csv'\n",
    "\n",
    "# Завантаження даних у DataFrame\n",
    "users_df = spark.read.csv(users_file, header=True, inferSchema=True)\n",
    "purchases_df = spark.read.csv(purchases_file, header=True, inferSchema=True)\n",
    "products_df = spark.read.csv(products_file, header=True, inferSchema=True)\n",
    "\n",
    "# Відображення перших кількох рядків кожного DataFrame\n",
    "print(\"Users DataFrame:\")\n",
    "users_df.show(5)\n",
    "\n",
    "print(\"Purchases DataFrame:\")\n",
    "purchases_df.show(5)\n",
    "\n",
    "print(\"Products DataFrame:\")\n",
    "products_df.show(5)"
   ]
  },
  {
   "cell_type": "markdown",
   "metadata": {},
   "source": [
    "**2. Очистка даних**"
   ]
  },
  {
   "cell_type": "code",
   "execution_count": 19,
   "metadata": {},
   "outputs": [
    {
     "name": "stdout",
     "output_type": "stream",
     "text": [
      "Users DataFrame - кількість рядків до очищення: 100\n",
      "Users DataFrame - кількість рядків після очищення: 95\n",
      "Purchases DataFrame - кількість рядків до очищення: 200\n",
      "Purchases DataFrame - кількість рядків після очищення: 195\n",
      "Products DataFrame - кількість рядків до очищення: 50\n",
      "Products DataFrame - кількість рядків після очищення: 47\n",
      "Users DataFrame (після очищення):\n",
      "+-------+------+---+-----------------+\n",
      "|user_id|  name|age|            email|\n",
      "+-------+------+---+-----------------+\n",
      "|      1|User_1| 45|user1@example.com|\n",
      "|      2|User_2| 48|user2@example.com|\n",
      "|      3|User_3| 36|user3@example.com|\n",
      "|      4|User_4| 46|user4@example.com|\n",
      "|      5|User_5| 29|user5@example.com|\n",
      "+-------+------+---+-----------------+\n",
      "only showing top 5 rows\n",
      "\n",
      "Purchases DataFrame (після очищення):\n",
      "+-----------+-------+----------+----------+--------+\n",
      "|purchase_id|user_id|product_id|      date|quantity|\n",
      "+-----------+-------+----------+----------+--------+\n",
      "|          1|     52|         9|2022-01-01|       1|\n",
      "|          2|     93|        37|2022-01-02|       8|\n",
      "|          3|     15|        33|2022-01-03|       1|\n",
      "|          4|     72|        42|2022-01-04|       9|\n",
      "|          5|     61|        44|2022-01-05|       6|\n",
      "+-----------+-------+----------+----------+--------+\n",
      "only showing top 5 rows\n",
      "\n",
      "Products DataFrame (після очищення):\n",
      "+----------+------------+-----------+-----+\n",
      "|product_id|product_name|   category|price|\n",
      "+----------+------------+-----------+-----+\n",
      "|         1|   Product_1|     Beauty|  8.3|\n",
      "|         2|   Product_2|       Home|  8.3|\n",
      "|         3|   Product_3|Electronics|  9.2|\n",
      "|         4|   Product_4|Electronics|  2.6|\n",
      "|         5|   Product_5|Electronics|  9.4|\n",
      "+----------+------------+-----------+-----+\n",
      "only showing top 5 rows\n",
      "\n"
     ]
    }
   ],
   "source": [
    "# Видалення рядків із пропущеними значеннями\n",
    "users_df_cleaned = users_df.dropna()\n",
    "purchases_df_cleaned = purchases_df.dropna()\n",
    "products_df_cleaned = products_df.dropna()\n",
    "\n",
    "# Виведення кількості рядків до і після очищення\n",
    "print(\"Users DataFrame - кількість рядків до очищення:\", users_df.count())\n",
    "print(\"Users DataFrame - кількість рядків після очищення:\", users_df_cleaned.count())\n",
    "\n",
    "print(\"Purchases DataFrame - кількість рядків до очищення:\", purchases_df.count())\n",
    "print(\"Purchases DataFrame - кількість рядків після очищення:\", purchases_df_cleaned.count())\n",
    "\n",
    "print(\"Products DataFrame - кількість рядків до очищення:\", products_df.count())\n",
    "print(\"Products DataFrame - кількість рядків після очищення:\", products_df_cleaned.count())\n",
    "\n",
    "# Перевірка результатів\n",
    "print(\"Users DataFrame (після очищення):\")\n",
    "users_df_cleaned.show(5)\n",
    "\n",
    "print(\"Purchases DataFrame (після очищення):\")\n",
    "purchases_df_cleaned.show(5)\n",
    "\n",
    "print(\"Products DataFrame (після очищення):\")\n",
    "products_df_cleaned.show(5)\n"
   ]
  },
  {
   "cell_type": "markdown",
   "metadata": {},
   "source": [
    "**3. Визначення загальної суми покупок за кожною категорією продуктів.**"
   ]
  },
  {
   "cell_type": "code",
   "execution_count": 20,
   "metadata": {},
   "outputs": [
    {
     "name": "stdout",
     "output_type": "stream",
     "text": [
      "+-----------+------------------+\n",
      "|   category|total_purchase_sum|\n",
      "+-----------+------------------+\n",
      "|       Home|            1523.5|\n",
      "|     Sports|            1802.5|\n",
      "|Electronics|            1174.8|\n",
      "|   Clothing|             790.3|\n",
      "|     Beauty|             459.9|\n",
      "+-----------+------------------+\n",
      "\n"
     ]
    }
   ],
   "source": [
    "# Об'єднання покупки з продуктами\n",
    "purchases_with_products = purchases_df_cleaned.join(\n",
    "    products_df_cleaned, \n",
    "    purchases_df_cleaned[\"product_id\"] == products_df_cleaned[\"product_id\"], \n",
    "    \"inner\"\n",
    ")\n",
    "\n",
    "# Додавання стовпця для загальної вартості покупки\n",
    "purchases_with_products = purchases_with_products.withColumn(\n",
    "    \"total_cost\", \n",
    "    col(\"quantity\") * col(\"price\")\n",
    ")\n",
    "\n",
    "# Обчислення загальної суми покупок за категоріями\n",
    "total_sum_by_category = purchases_with_products.groupBy(\"category\").agg(\n",
    "    round(sum(\"total_cost\"), 2).alias(\"total_purchase_sum\")\n",
    ")\n",
    "\n",
    "# Результат\n",
    "total_sum_by_category.show()"
   ]
  },
  {
   "cell_type": "markdown",
   "metadata": {},
   "source": [
    "**4. Визначення суми покупок за кожною категорією продуктів для вікової категорії від 18 до 25 включно**"
   ]
  },
  {
   "cell_type": "code",
   "execution_count": 21,
   "metadata": {},
   "outputs": [
    {
     "name": "stdout",
     "output_type": "stream",
     "text": [
      "+-----------+------------------+\n",
      "|   category|total_purchase_sum|\n",
      "+-----------+------------------+\n",
      "|       Home|             361.1|\n",
      "|     Sports|             310.5|\n",
      "|Electronics|             249.6|\n",
      "|   Clothing|             245.0|\n",
      "|     Beauty|              41.4|\n",
      "+-----------+------------------+\n",
      "\n"
     ]
    }
   ],
   "source": [
    "# Об'єднання покупок із продуктами\n",
    "purchases_with_products = purchases_df_cleaned.join(\n",
    "    products_df_cleaned, \"product_id\", \"inner\"\n",
    ")\n",
    "\n",
    "# Об'єднання з даними користувачів\n",
    "purchases_with_users = purchases_with_products.join(\n",
    "    users_df_cleaned, \"user_id\", \"inner\"\n",
    ")\n",
    "\n",
    "# Фільтрація за віком від 18 до 25 років\n",
    "filtered_data = purchases_with_users.filter(\n",
    "    (col(\"age\") >= 18) & (col(\"age\") <= 25)\n",
    ")\n",
    "\n",
    "# Додавання стовпця для загальної вартості покупки\n",
    "filtered_data = filtered_data.withColumn(\n",
    "    \"total_cost\", \n",
    "    col(\"quantity\") * col(\"price\")\n",
    ")\n",
    "\n",
    "# Обчислення суми за категоріями\n",
    "total_sum_by_category = filtered_data.groupBy(\"category\").agg(\n",
    "    round(sum(\"total_cost\"), 2).alias(\"total_purchase_sum\")\n",
    ")\n",
    "\n",
    "# Результат\n",
    "total_sum_by_category.show()"
   ]
  },
  {
   "cell_type": "markdown",
   "metadata": {},
   "source": [
    "**5. Визначенн частки покупок за кожною категорією товарів від сумарних витрат для вікової категорії від 18 до 25 років**"
   ]
  },
  {
   "cell_type": "code",
   "execution_count": 22,
   "metadata": {},
   "outputs": [
    {
     "name": "stdout",
     "output_type": "stream",
     "text": [
      "+-----------+------------------+--------------+\n",
      "|   category|total_purchase_sum|purchase_share|\n",
      "+-----------+------------------+--------------+\n",
      "|       Home|             361.1|          29.9|\n",
      "|     Sports|             310.5|         25.71|\n",
      "|Electronics|             249.6|         20.67|\n",
      "|   Clothing|             245.0|         20.29|\n",
      "|     Beauty|              41.4|          3.43|\n",
      "+-----------+------------------+--------------+\n",
      "\n"
     ]
    }
   ],
   "source": [
    "# Загальна сума витрат для вікової категорії\n",
    "total_spending = total_sum_by_category.select(\n",
    "    sum(\"total_purchase_sum\").alias(\"total_sum\")\n",
    ").collect()[0][\"total_sum\"]\n",
    "\n",
    "# Обчислення частки покупок за кожною категорією\n",
    "category_shares = total_sum_by_category.withColumn(\n",
    "    \"purchase_share\",\n",
    "    round((col(\"total_purchase_sum\") / lit(total_spending)) * 100, 2)\n",
    ")\n",
    "\n",
    "# Результат\n",
    "category_shares.show()"
   ]
  },
  {
   "cell_type": "markdown",
   "metadata": {},
   "source": [
    "**6. Вибір 3-х категорій продуктів з найвищим відсотком витрат споживачами віком від 18 до 25 років**"
   ]
  },
  {
   "cell_type": "code",
   "execution_count": 23,
   "metadata": {},
   "outputs": [
    {
     "name": "stdout",
     "output_type": "stream",
     "text": [
      "+-----------+------------------+--------------+\n",
      "|   category|total_purchase_sum|purchase_share|\n",
      "+-----------+------------------+--------------+\n",
      "|       Home|             361.1|          29.9|\n",
      "|     Sports|             310.5|         25.71|\n",
      "|Electronics|             249.6|         20.67|\n",
      "+-----------+------------------+--------------+\n",
      "\n"
     ]
    }
   ],
   "source": [
    "# Округлення відсотків\n",
    "category_shares = category_shares.withColumn(\n",
    "    \"purchase_share\", round(col(\"purchase_share\"), 2)\n",
    ")\n",
    "\n",
    "# Сортування за відсотками у порядку спадання\n",
    "top_3_categories = category_shares.orderBy(\n",
    "    col(\"purchase_share\").desc()\n",
    ").limit(3)\n",
    "\n",
    "# Результат\n",
    "top_3_categories.show()"
   ]
  },
  {
   "cell_type": "markdown",
   "metadata": {},
   "source": [
    "**7. Закриття Spark-сесії**"
   ]
  },
  {
   "cell_type": "code",
   "execution_count": 24,
   "metadata": {},
   "outputs": [],
   "source": [
    "# Закриття Spark-сесії\n",
    "spark.stop()"
   ]
  }
 ],
 "metadata": {
  "kernelspec": {
   "display_name": "spark-env",
   "language": "python",
   "name": "python3"
  },
  "language_info": {
   "codemirror_mode": {
    "name": "ipython",
    "version": 3
   },
   "file_extension": ".py",
   "mimetype": "text/x-python",
   "name": "python",
   "nbconvert_exporter": "python",
   "pygments_lexer": "ipython3",
   "version": "3.11.11"
  }
 },
 "nbformat": 4,
 "nbformat_minor": 2
}
